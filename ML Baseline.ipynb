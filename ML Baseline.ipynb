{
 "cells": [
  {
   "cell_type": "markdown",
   "metadata": {},
   "source": [
    "# Imports"
   ]
  },
  {
   "cell_type": "code",
   "execution_count": 1,
   "metadata": {
    "ExecuteTime": {
     "end_time": "2021-03-23T16:04:39.059381Z",
     "start_time": "2021-03-23T16:04:37.827872Z"
    }
   },
   "outputs": [],
   "source": [
    "import pandas as pd\n",
    "import numpy as np\n",
    "import nltk\n",
    "from nltk import sent_tokenize, word_tokenize\n",
    "from nltk.corpus import stopwords\n",
    "from nltk import WordNetLemmatizer\n",
    "from collections import defaultdict\n",
    "from sklearn.metrics import precision_recall_fscore_support as score\n",
    "from sklearn.metrics import classification_report\n",
    "from sklearn.svm import SVC\n",
    "from sklearn.naive_bayes import GaussianNB\n",
    "from sklearn.feature_extraction.text import TfidfVectorizer\n",
    "from sklearn.model_selection import train_test_split\n",
    "from datetime import datetime, timedelta"
   ]
  },
  {
   "cell_type": "markdown",
   "metadata": {},
   "source": [
    "# Load Data"
   ]
  },
  {
   "cell_type": "code",
   "execution_count": 2,
   "metadata": {
    "ExecuteTime": {
     "end_time": "2021-03-23T16:04:41.043522Z",
     "start_time": "2021-03-23T16:04:40.652756Z"
    }
   },
   "outputs": [
    {
     "data": {
      "text/html": [
       "<div>\n",
       "<style scoped>\n",
       "    .dataframe tbody tr th:only-of-type {\n",
       "        vertical-align: middle;\n",
       "    }\n",
       "\n",
       "    .dataframe tbody tr th {\n",
       "        vertical-align: top;\n",
       "    }\n",
       "\n",
       "    .dataframe thead th {\n",
       "        text-align: right;\n",
       "    }\n",
       "</style>\n",
       "<table border=\"1\" class=\"dataframe\">\n",
       "  <thead>\n",
       "    <tr style=\"text-align: right;\">\n",
       "      <th></th>\n",
       "      <th>reviews</th>\n",
       "      <th>Judgement</th>\n",
       "    </tr>\n",
       "  </thead>\n",
       "  <tbody>\n",
       "    <tr>\n",
       "      <th>0</th>\n",
       "      <td>Well done Microsoft!! OneNote is a fantastic p...</td>\n",
       "      <td>1</td>\n",
       "    </tr>\n",
       "    <tr>\n",
       "      <th>1</th>\n",
       "      <td>This works on a limited basis.  Works well for...</td>\n",
       "      <td>1</td>\n",
       "    </tr>\n",
       "    <tr>\n",
       "      <th>2</th>\n",
       "      <td>This app was great for the first month or two....</td>\n",
       "      <td>1</td>\n",
       "    </tr>\n",
       "    <tr>\n",
       "      <th>3</th>\n",
       "      <td>I can't update it in my phone it takes way too...</td>\n",
       "      <td>1</td>\n",
       "    </tr>\n",
       "    <tr>\n",
       "      <th>4</th>\n",
       "      <td>Why is it so big?!!</td>\n",
       "      <td>1</td>\n",
       "    </tr>\n",
       "  </tbody>\n",
       "</table>\n",
       "</div>"
      ],
      "text/plain": [
       "                                             reviews  Judgement\n",
       "0  Well done Microsoft!! OneNote is a fantastic p...          1\n",
       "1  This works on a limited basis.  Works well for...          1\n",
       "2  This app was great for the first month or two....          1\n",
       "3  I can't update it in my phone it takes way too...          1\n",
       "4                                Why is it so big?!!          1"
      ]
     },
     "execution_count": 2,
     "metadata": {},
     "output_type": "execute_result"
    }
   ],
   "source": [
    "golden_1 = pd.read_excel(\"./data/P1-Golden.xlsx\")\n",
    "golden_1.head()"
   ]
  },
  {
   "cell_type": "code",
   "execution_count": 3,
   "metadata": {
    "ExecuteTime": {
     "end_time": "2021-03-23T16:04:42.042520Z",
     "start_time": "2021-03-23T16:04:41.954882Z"
    }
   },
   "outputs": [
    {
     "data": {
      "text/html": [
       "<div>\n",
       "<style scoped>\n",
       "    .dataframe tbody tr th:only-of-type {\n",
       "        vertical-align: middle;\n",
       "    }\n",
       "\n",
       "    .dataframe tbody tr th {\n",
       "        vertical-align: top;\n",
       "    }\n",
       "\n",
       "    .dataframe thead th {\n",
       "        text-align: right;\n",
       "    }\n",
       "</style>\n",
       "<table border=\"1\" class=\"dataframe\">\n",
       "  <thead>\n",
       "    <tr style=\"text-align: right;\">\n",
       "      <th></th>\n",
       "      <th>reviews</th>\n",
       "      <th>Judgement</th>\n",
       "    </tr>\n",
       "  </thead>\n",
       "  <tbody>\n",
       "    <tr>\n",
       "      <th>0</th>\n",
       "      <td>Now I bought an iPhone six running iOS 8.</td>\n",
       "      <td>0</td>\n",
       "    </tr>\n",
       "    <tr>\n",
       "      <th>1</th>\n",
       "      <td>It installed fine.</td>\n",
       "      <td>0</td>\n",
       "    </tr>\n",
       "    <tr>\n",
       "      <th>2</th>\n",
       "      <td>However, it won't let me sign on. it doesn't s...</td>\n",
       "      <td>1</td>\n",
       "    </tr>\n",
       "    <tr>\n",
       "      <th>3</th>\n",
       "      <td>I've used Viber for a very long time and it's ...</td>\n",
       "      <td>0</td>\n",
       "    </tr>\n",
       "    <tr>\n",
       "      <th>4</th>\n",
       "      <td>The phone calls and the chatting is what I uti...</td>\n",
       "      <td>1</td>\n",
       "    </tr>\n",
       "  </tbody>\n",
       "</table>\n",
       "</div>"
      ],
      "text/plain": [
       "                                             reviews  Judgement\n",
       "0          Now I bought an iPhone six running iOS 8.          0\n",
       "1                                 It installed fine.          0\n",
       "2  However, it won't let me sign on. it doesn't s...          1\n",
       "3  I've used Viber for a very long time and it's ...          0\n",
       "4  The phone calls and the chatting is what I uti...          1"
      ]
     },
     "execution_count": 3,
     "metadata": {},
     "output_type": "execute_result"
    }
   ],
   "source": [
    "golden_2 = pd.read_excel(\"./data/P2-Golden.xlsx\")\n",
    "golden_2.head()"
   ]
  },
  {
   "cell_type": "markdown",
   "metadata": {},
   "source": [
    "# Utility functions"
   ]
  },
  {
   "cell_type": "code",
   "execution_count": 4,
   "metadata": {
    "ExecuteTime": {
     "end_time": "2021-03-23T16:04:45.424396Z",
     "start_time": "2021-03-23T16:04:45.405377Z"
    }
   },
   "outputs": [],
   "source": [
    "def clean_text(text, remove_stop = False):\n",
    "    tokens = word_tokenize(text)\n",
    "    # Remove the punctuations\n",
    "    tokens = [word for word in tokens if word.isalpha()]\n",
    "    # Lower the tokens\n",
    "    tokens = [word.lower() for word in tokens]\n",
    "    if remove_stop:\n",
    "        # Remove stopword\n",
    "        tokens = [word for word in tokens if not word in stopwords.words(\"english\")]\n",
    "    # Lemmatize\n",
    "    lemma = WordNetLemmatizer()\n",
    "    tokens = [lemma.lemmatize(word, pos = \"v\") for word in tokens]\n",
    "    tokens = [lemma.lemmatize(word, pos = \"n\") for word in tokens]\n",
    "    return tokens"
   ]
  },
  {
   "cell_type": "code",
   "execution_count": 5,
   "metadata": {
    "ExecuteTime": {
     "end_time": "2021-03-23T16:04:46.186214Z",
     "start_time": "2021-03-23T16:04:46.173202Z"
    }
   },
   "outputs": [],
   "source": [
    "def get_vector(total_doc):\n",
    "    text_corpus = []\n",
    "    tokens = defaultdict(int)\n",
    "    for doc in total_doc:\n",
    "        tk = clean_text(doc)\n",
    "        for t in tk:\n",
    "            tokens[t]+=1\n",
    "        text_corpus.append(tk)\n",
    "    text_vectors = []\n",
    "    token_count = len(tokens)\n",
    "    token_index = {}\n",
    "    idx = 0\n",
    "    for token in tokens:\n",
    "        token_index[token] = idx\n",
    "        idx+=1\n",
    "\n",
    "    for text in text_corpus:\n",
    "        tmp_vector = np.zeros(token_count)\n",
    "        for tok in text:\n",
    "            tmp_vector[token_index[tok]]=1\n",
    "        text_vectors.append(tmp_vector)\n",
    "    return text_vectors\n",
    "    "
   ]
  },
  {
   "cell_type": "markdown",
   "metadata": {},
   "source": [
    "# Models"
   ]
  },
  {
   "cell_type": "markdown",
   "metadata": {},
   "source": [
    "## Naive Bayes"
   ]
  },
  {
   "cell_type": "markdown",
   "metadata": {
    "ExecuteTime": {
     "end_time": "2021-03-02T00:17:00.068853Z",
     "start_time": "2021-03-02T00:17:00.061854Z"
    }
   },
   "source": [
    "### Task P1"
   ]
  },
  {
   "cell_type": "code",
   "execution_count": 6,
   "metadata": {
    "ExecuteTime": {
     "end_time": "2021-03-23T16:04:49.877202Z",
     "start_time": "2021-03-23T16:04:48.267410Z"
    }
   },
   "outputs": [
    {
     "name": "stdout",
     "output_type": "stream",
     "text": [
      "Number of mislabeled points out of a total 50 points : 9, accuracy = 0.820000\n",
      "              precision    recall  f1-score   support\n",
      "\n",
      "           0       0.83      0.79      0.81        24\n",
      "           1       0.81      0.85      0.83        26\n",
      "\n",
      "    accuracy                           0.82        50\n",
      "   macro avg       0.82      0.82      0.82        50\n",
      "weighted avg       0.82      0.82      0.82        50\n",
      "\n",
      "Processing Time: 0.0\n"
     ]
    }
   ],
   "source": [
    "x = np.array(get_vector(golden_1['reviews']))\n",
    "y = np.array(golden_1['Judgement'])\n",
    "\n",
    "X_train, X_test, y_train, y_test = train_test_split(x, y, test_size=0.05, random_state=0)\n",
    "learner = GaussianNB()\n",
    "learner = learner.fit(X_train, y_train)\n",
    "\n",
    "start_time = datetime.now()\n",
    "y_pred = learner.predict(X_test)\n",
    "acc =  (y_test == y_pred).sum()/X_test.shape[0]\n",
    "\n",
    "print(\"Number of mislabeled points out of a total %d points : %d, accuracy = %f\"% (X_test.shape[0], (y_test!= y_pred).sum(),acc))\n",
    "print(classification_report(y_test, y_pred))\n",
    "print(f\"Processing Time: {(datetime.now() - start_time).total_seconds()}\")"
   ]
  },
  {
   "cell_type": "markdown",
   "metadata": {},
   "source": [
    "### Task P2"
   ]
  },
  {
   "cell_type": "code",
   "execution_count": 7,
   "metadata": {
    "ExecuteTime": {
     "end_time": "2021-03-23T16:04:51.527055Z",
     "start_time": "2021-03-23T16:04:51.177752Z"
    }
   },
   "outputs": [
    {
     "name": "stdout",
     "output_type": "stream",
     "text": [
      "Number of mislabeled points out of a total 63 points : 18, accuracy = 0.714286\n",
      "              precision    recall  f1-score   support\n",
      "\n",
      "           0       0.75      0.82      0.79        40\n",
      "           1       0.63      0.52      0.57        23\n",
      "\n",
      "    accuracy                           0.71        63\n",
      "   macro avg       0.69      0.67      0.68        63\n",
      "weighted avg       0.71      0.71      0.71        63\n",
      "\n",
      "Processing Time: 0.01564\n"
     ]
    }
   ],
   "source": [
    "x = np.array(get_vector(golden_2['reviews']))\n",
    "y = np.array(golden_2['Judgement'])\n",
    "\n",
    "X_train, X_test, y_train, y_test = train_test_split(x, y, test_size=0.05, random_state=0)\n",
    "learner = GaussianNB()\n",
    "learner = learner.fit(X_train, y_train)\n",
    "\n",
    "start_time = datetime.now()\n",
    "y_pred = learner.predict(X_test)\n",
    "acc =  (y_test== y_pred).sum()/X_test.shape[0]\n",
    "\n",
    "print(\"Number of mislabeled points out of a total %d points : %d, accuracy = %f\"% (X_test.shape[0], (y_test!= y_pred).sum(),acc))\n",
    "print(classification_report(y_test, y_pred))\n",
    "print(f\"Processing Time: {(datetime.now() - start_time).total_seconds()}\")"
   ]
  },
  {
   "cell_type": "markdown",
   "metadata": {},
   "source": [
    "## TF-IDF + Sklearn learners approach"
   ]
  },
  {
   "cell_type": "markdown",
   "metadata": {},
   "source": [
    "### Task P1"
   ]
  },
  {
   "cell_type": "code",
   "execution_count": 8,
   "metadata": {
    "ExecuteTime": {
     "end_time": "2021-03-23T16:04:56.898000Z",
     "start_time": "2021-03-23T16:04:55.453023Z"
    }
   },
   "outputs": [
    {
     "name": "stdout",
     "output_type": "stream",
     "text": [
      "Number of mislabeled points out of a total 50 points : 7, accuracy = 0.860000\n",
      "              precision    recall  f1-score   support\n",
      "\n",
      "           0       0.90      0.79      0.84        24\n",
      "           1       0.83      0.92      0.87        26\n",
      "\n",
      "    accuracy                           0.86        50\n",
      "   macro avg       0.87      0.86      0.86        50\n",
      "weighted avg       0.86      0.86      0.86        50\n",
      "\n",
      "Processing Time: 0.093747\n"
     ]
    }
   ],
   "source": [
    "vectorizer = TfidfVectorizer()\n",
    "corpus = golden_1['reviews']\n",
    "x = vectorizer.fit_transform(corpus).toarray()\n",
    "y = np.array(golden_1['Judgement'])\n",
    "X_train, X_test, y_train, y_test = train_test_split(x, y, test_size=0.05, random_state=0)\n",
    "\n",
    "learner = SVC(gamma=2, C=1)\n",
    "learner = learner.fit(X_train, y_train)\n",
    "\n",
    "start_time = datetime.now()\n",
    "y_pred = learner.predict(X_test)\n",
    "acc =  (y_test== y_pred).sum()/X_test.shape[0]\n",
    "\n",
    "print(\"Number of mislabeled points out of a total %d points : %d, accuracy = %f\"% (X_test.shape[0], (y_test!= y_pred).sum(),acc))\n",
    "print(classification_report(y_test, y_pred))\n",
    "print(f\"Processing Time: {(datetime.now() - start_time).total_seconds()}\")"
   ]
  },
  {
   "cell_type": "markdown",
   "metadata": {},
   "source": [
    "### Task P2"
   ]
  },
  {
   "cell_type": "code",
   "execution_count": 9,
   "metadata": {
    "ExecuteTime": {
     "end_time": "2021-03-23T16:05:00.877457Z",
     "start_time": "2021-03-23T16:04:59.068456Z"
    }
   },
   "outputs": [
    {
     "name": "stdout",
     "output_type": "stream",
     "text": [
      "Number of mislabeled points out of a total 249 points : 59, accuracy = 0.763052\n",
      "              precision    recall  f1-score   support\n",
      "\n",
      "           0       0.73      0.92      0.82       142\n",
      "           1       0.83      0.56      0.67       107\n",
      "\n",
      "    accuracy                           0.76       249\n",
      "   macro avg       0.78      0.74      0.74       249\n",
      "weighted avg       0.78      0.76      0.75       249\n",
      "\n",
      "Processing Time: 0.453092\n"
     ]
    }
   ],
   "source": [
    "vectorizer = TfidfVectorizer()\n",
    "corpus = golden_2['reviews']\n",
    "x = vectorizer.fit_transform(corpus).toarray()\n",
    "y = np.array(golden_2['Judgement'])\n",
    "X_train, X_test, y_train, y_test = train_test_split(x, y, test_size=0.2, random_state=0)\n",
    "learner = SVC(gamma=2, C=1)\n",
    "learner = learner.fit(X_train, y_train)\n",
    "\n",
    "start_time = datetime.now()\n",
    "y_pred = learner.predict(X_test)\n",
    "acc =  (y_test== y_pred).sum()/X_test.shape[0]\n",
    "\n",
    "print(\"Number of mislabeled points out of a total %d points : %d, accuracy = %f\"% (X_test.shape[0], (y_test!= y_pred).sum(),acc))\n",
    "print(classification_report(y_test, y_pred))\n",
    "print(f\"Processing Time: {(datetime.now() - start_time).total_seconds()}\")"
   ]
  },
  {
   "cell_type": "code",
   "execution_count": null,
   "metadata": {},
   "outputs": [],
   "source": []
  }
 ],
 "metadata": {
  "kernelspec": {
   "display_name": "Python 3",
   "language": "python",
   "name": "python3"
  },
  "language_info": {
   "codemirror_mode": {
    "name": "ipython",
    "version": 3
   },
   "file_extension": ".py",
   "mimetype": "text/x-python",
   "name": "python",
   "nbconvert_exporter": "python",
   "pygments_lexer": "ipython3",
   "version": "3.8.3"
  },
  "toc": {
   "base_numbering": 1,
   "nav_menu": {},
   "number_sections": true,
   "sideBar": true,
   "skip_h1_title": false,
   "title_cell": "Table of Contents",
   "title_sidebar": "Contents",
   "toc_cell": false,
   "toc_position": {},
   "toc_section_display": true,
   "toc_window_display": true
  }
 },
 "nbformat": 4,
 "nbformat_minor": 2
}
